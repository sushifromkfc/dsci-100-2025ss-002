{
 "cells": [
  {
   "cell_type": "markdown",
   "id": "739bd18a-0313-413f-a17f-971618014bda",
   "metadata": {},
   "source": [
    "This is Junmo Koo's DSCI 100 project"
   ]
  }
 ],
 "metadata": {
  "kernelspec": {
   "display_name": "R",
   "language": "R",
   "name": "ir"
  },
  "language_info": {
   "codemirror_mode": "r",
   "file_extension": ".r",
   "mimetype": "text/x-r-source",
   "name": "R",
   "pygments_lexer": "r",
   "version": "4.3.3"
  }
 },
 "nbformat": 4,
 "nbformat_minor": 5
}
